1)Diseñe una función que recibe como parámetro de entrada un string que solo contiene letras, tanto mayúsculas como minúsculas (sin espacios) mezcladas indistintamente. Su función debe invertir el orden de los caracteres y además los que están en minúscula debe convertirlos en mayúscula y viceversa. Acompañe la función de una interfaz de usuario por consola.


def invertir_lista(unsort):
    mayusculas = 'ABCDEFGHIJKLMNOPQRSTUVWXYZ'
    string=list(unsort)
    string_inv=list(unsort)
    for i in range(len(string)-1,-1,-1):
        if string[i] in mayusculas:
            string[i]=string[i].lower()
        else:
            string[i]=string[i].upper()
        string_inv[(len(string)-1)-i]=string[i]
    return string_inv
unsort = input('Introduce una cadena de texto: ')
invertir_lista(unsort)
             
Introduce una cadena de texto: sfErD
['d', 'R', 'e', 'F', 'S']
3)Diseñe una función que recibe un string como parámetro de entrada. El string tiene como característica particular que tiene caracteres especiales (ejemplo: @,&,%,#,=,etc...). Su función debe invertir el orden de los caracteres, a excepción de los caracteres especiales, estos deben conservar su posición original.

Recomendación: Utilice strings simétricos, es decir, que las cantidades de caracteres "normales" entre caracteres especiales sea simétrica.


def invertir_string(unsort):
    especial = '|@#~€¬{}[]()\!"·$%&=?¿,.;*@ł¶+-º/ª><¡'
    string= unsort
    string_especial=''
    string_normal=''
    string_inv=''
    string_total=''
    posicion_e=''
    posicion_n=''
    
    for i in range(len(string)):
        if string[i] in especial:
            string_especial += string[i]
            posicion_e += str(i)
        else:
            string_normal += string[i]
            posicion_n += str(i)
            
    for i in range(len(string_normal)-1,-1,-1):
        string_inv += string_normal[i]
    string_total= list(string_inv + string_especial)
    
    for i in range(len(string_normal)):
        dato=int(posicion_n[i])
        string_total[dato] = string_inv[i]
        
    for i in range(len(string_especial)):
        dato=int(posicion_e[i])
        string_total[dato] = string_especial[i]
        
    return string_total
unsort = input('Introduce una cadena de texto: ')
invertir_string(unsort)
Introduce una cadena de texto: a#e#r#t#
['t', '#', 'r', '#', 'e', '#', 'a', '#']
2)Diseñe una pequeña función que reciba una lista de caracteres alfanuméricos como parámetro de entrada. Dicha función debe contar el número de ocurrencias de los caracteres que haya en la lista y debe retornar un diccionario cuyos elementos estén definidos de tal forma que la clave del elemento sea el caracter y el valor del elemento sea el número de ocurrencias de ese caracter en la lista.


def Diccionario_(unsort):
    aux=0
    trocado=1
    string=list(unsort)
# Se ordena el vector por el metodo de la burbuja
    while(trocado):
        trocado=0
        for char in range(len(string)-1):      
            if(string[char] > string[char+1]):
                aux=string[char]
                string[char]=string[char+1]
                string[char+1]=aux
                trocado +=1
# Se recorre el string eliminando elementos repetidos
    string_car=''
    string_car += string[0]
    for i in range(len(string)-1):
        if(string[i]!=string[i+1]):
            string_car += string[i+1]   
# Borrado del diccionario
    diccionario={}
# Se cuentan las ocurrencias de cada caracter
    string_veces=''
    x=0
    for i in range(len(string_car)):
        for j in range(len(string)):
             if(string_car[i]==string[j]):
                x += 1
        string_veces += str(x) 
        diccionario.update({string_car[i]:str(x)})
        x=0
    return diccionario    
unsort = input('Introduce una cadena de nùmeros: ')
Diccionario_(unsort)
Introduce una cadena de nùmeros: 222335353222
{'2': '6', '3': '4', '5': '2'}
